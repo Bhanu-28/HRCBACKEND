{
 "cells": [
  {
   "cell_type": "code",
   "execution_count": null,
   "id": "8933d4f8",
   "metadata": {},
   "outputs": [
    {
     "name": "stdout",
     "output_type": "stream",
     "text": [
      " * Serving Flask app \"__main__\" (lazy loading)\n",
      " * Environment: production\n",
      "\u001b[31m   WARNING: This is a development server. Do not use it in a production deployment.\u001b[0m\n",
      "\u001b[2m   Use a production WSGI server instead.\u001b[0m\n",
      " * Debug mode: off\n"
     ]
    },
    {
     "name": "stderr",
     "output_type": "stream",
     "text": [
      " * Running on http://127.0.0.1:5000/ (Press CTRL+C to quit)\n",
      "127.0.0.1 - - [14/Apr/2022 10:45:54] \"GET / HTTP/1.1\" 200 -\n",
      "127.0.0.1 - - [14/Apr/2022 10:45:54] \"GET /favicon.ico HTTP/1.1\" 200 -\n"
     ]
    },
    {
     "name": "stdout",
     "output_type": "stream",
     "text": [
      "None\n"
     ]
    },
    {
     "name": "stderr",
     "output_type": "stream",
     "text": [
      "[2022-04-14 10:46:06,897] ERROR in app: Exception on / [POST]\n",
      "Traceback (most recent call last):\n",
      "  File \"C:\\Users\\bhanu\\anaconda3\\lib\\site-packages\\flask\\app.py\", line 2447, in wsgi_app\n",
      "    response = self.full_dispatch_request()\n",
      "  File \"C:\\Users\\bhanu\\anaconda3\\lib\\site-packages\\flask\\app.py\", line 1952, in full_dispatch_request\n",
      "    rv = self.handle_user_exception(e)\n",
      "  File \"C:\\Users\\bhanu\\anaconda3\\lib\\site-packages\\flask_cors\\extension.py\", line 165, in wrapped_function\n",
      "    return cors_after_request(app.make_response(f(*args, **kwargs)))\n",
      "  File \"C:\\Users\\bhanu\\anaconda3\\lib\\site-packages\\flask\\app.py\", line 1821, in handle_user_exception\n",
      "    reraise(exc_type, exc_value, tb)\n",
      "  File \"C:\\Users\\bhanu\\anaconda3\\lib\\site-packages\\flask\\_compat.py\", line 39, in reraise\n",
      "    raise value\n",
      "  File \"C:\\Users\\bhanu\\anaconda3\\lib\\site-packages\\flask\\app.py\", line 1950, in full_dispatch_request\n",
      "    rv = self.dispatch_request()\n",
      "  File \"C:\\Users\\bhanu\\anaconda3\\lib\\site-packages\\flask\\app.py\", line 1936, in dispatch_request\n",
      "    return self.view_functions[rule.endpoint](**req.view_args)\n",
      "  File \"C:\\Users\\bhanu\\AppData\\Local\\Temp/ipykernel_8996/1619904842.py\", line 15, in home\n",
      "    business_code = request.json[\"business_code\"]\n",
      "TypeError: 'NoneType' object is not subscriptable\n",
      "127.0.0.1 - - [14/Apr/2022 10:46:07] \"POST / HTTP/1.1\" 500 -\n",
      "127.0.0.1 - - [14/Apr/2022 10:46:07] \"GET /favicon.ico HTTP/1.1\" 200 -\n",
      "127.0.0.1 - - [14/Apr/2022 10:46:11] \"GET /favicon.ico HTTP/1.1\" 200 -\n",
      "127.0.0.1 - - [14/Apr/2022 10:46:26] \"GET /all HTTP/1.1\" 200 -\n",
      "127.0.0.1 - - [14/Apr/2022 10:46:26] \"GET /favicon.ico HTTP/1.1\" 200 -\n"
     ]
    },
    {
     "name": "stdout",
     "output_type": "stream",
     "text": [
      " Predict\n"
     ]
    },
    {
     "name": "stderr",
     "output_type": "stream",
     "text": [
      "[2022-04-14 10:46:30,415] ERROR in app: Exception on /all [POST]\n",
      "Traceback (most recent call last):\n",
      "  File \"C:\\Users\\bhanu\\anaconda3\\lib\\site-packages\\flask\\app.py\", line 2447, in wsgi_app\n",
      "    response = self.full_dispatch_request()\n",
      "  File \"C:\\Users\\bhanu\\anaconda3\\lib\\site-packages\\flask\\app.py\", line 1952, in full_dispatch_request\n",
      "    rv = self.handle_user_exception(e)\n",
      "  File \"C:\\Users\\bhanu\\anaconda3\\lib\\site-packages\\flask_cors\\extension.py\", line 165, in wrapped_function\n",
      "    return cors_after_request(app.make_response(f(*args, **kwargs)))\n",
      "  File \"C:\\Users\\bhanu\\anaconda3\\lib\\site-packages\\flask\\app.py\", line 1821, in handle_user_exception\n",
      "    reraise(exc_type, exc_value, tb)\n",
      "  File \"C:\\Users\\bhanu\\anaconda3\\lib\\site-packages\\flask\\_compat.py\", line 39, in reraise\n",
      "    raise value\n",
      "  File \"C:\\Users\\bhanu\\anaconda3\\lib\\site-packages\\flask\\app.py\", line 1950, in full_dispatch_request\n",
      "    rv = self.dispatch_request()\n",
      "  File \"C:\\Users\\bhanu\\anaconda3\\lib\\site-packages\\flask\\app.py\", line 1936, in dispatch_request\n",
      "    return self.view_functions[rule.endpoint](**req.view_args)\n",
      "  File \"C:\\Users\\bhanu\\AppData\\Local\\Temp/ipykernel_8996/1619904842.py\", line 66, in alll\n",
      "    response = make_response(jsonify(New_Bucket.alll()),200)\n",
      "  File \"C:\\Users\\bhanu\\Flask Integration\\New_Bucket.py\", line 288, in alll\n",
      "    Final = nulldata1.merge(final_result , on = nulldata.index )\n",
      "  File \"C:\\Users\\bhanu\\anaconda3\\lib\\site-packages\\pandas\\core\\frame.py\", line 9190, in merge\n",
      "    return merge(\n",
      "  File \"C:\\Users\\bhanu\\anaconda3\\lib\\site-packages\\pandas\\core\\reshape\\merge.py\", line 121, in merge\n",
      "    return op.get_result()\n",
      "  File \"C:\\Users\\bhanu\\anaconda3\\lib\\site-packages\\pandas\\core\\reshape\\merge.py\", line 737, in get_result\n",
      "    self._maybe_add_join_keys(result, left_indexer, right_indexer)\n",
      "  File \"C:\\Users\\bhanu\\anaconda3\\lib\\site-packages\\pandas\\core\\reshape\\merge.py\", line 888, in _maybe_add_join_keys\n",
      "    lvals = algos.take_nd(take_left, left_indexer, fill_value=lfill)\n",
      "  File \"C:\\Users\\bhanu\\anaconda3\\lib\\site-packages\\pandas\\core\\array_algos\\take.py\", line 101, in take_nd\n",
      "    return arr.take(\n",
      "  File \"C:\\Users\\bhanu\\anaconda3\\lib\\site-packages\\pandas\\core\\indexes\\range.py\", line 438, in take\n",
      "    return self._int64index.take(\n",
      "  File \"C:\\Users\\bhanu\\anaconda3\\lib\\site-packages\\pandas\\core\\indexes\\base.py\", line 957, in take\n",
      "    allow_fill = self._maybe_disallow_fill(allow_fill, fill_value, indices)\n",
      "  File \"C:\\Users\\bhanu\\anaconda3\\lib\\site-packages\\pandas\\core\\indexes\\base.py\", line 982, in _maybe_disallow_fill\n",
      "    raise ValueError(\n",
      "ValueError: Unable to fill values because RangeIndex cannot contain NA\n",
      "127.0.0.1 - - [14/Apr/2022 10:46:30] \"POST /all HTTP/1.1\" 500 -\n",
      "127.0.0.1 - - [14/Apr/2022 10:46:30] \"GET /favicon.ico HTTP/1.1\" 200 -\n"
     ]
    }
   ],
   "source": [
    "from flask import Flask, redirect, url_for, render_template, request,jsonify, make_response\n",
    "import New_Bucket\n",
    "import pandas as pd\n",
    "from flask_cors import CORS\n",
    "\n",
    "data = pd.DataFrame()\n",
    "app = Flask(__name__)\n",
    "CORS(app)\n",
    "\n",
    "@app.route(\"/\",methods=[\"POST\", \"GET\"])\n",
    "def home():\n",
    "    \n",
    "    if request.method == \"POST\":\n",
    "        print(request.json)\n",
    "        business_code = request.json[\"business_code\"]\n",
    "        cust_number = request.json['cust_number']\n",
    "        name_customer = request.json['name_customer']\n",
    "        clear_date = request.json['clear_date']\n",
    "        buisness_year = int(request.json['buisness_year'])\n",
    "        doc_id = int(request.json['doc_id'])\n",
    "        posting_date = request.json['posting_date']\n",
    "        due_in_date = request.json['due_in_date']\n",
    "        baseline_create_date = request.json['baseline_create_date']\n",
    "        cust_payment_terms = request.json['cust_payment_terms']\n",
    "        converted_usd = float(request.json['converted_usd'])\n",
    " \n",
    "        data['business_code'] = [business_code]\n",
    "        data['cust_number'] = [cust_number]\n",
    "        data['name_customer'] = [name_customer]\n",
    "        data['clear_date'] = [clear_date]\n",
    "        data['buisness_year'] = [buisness_year]\n",
    "        data['doc_id'] = [doc_id]\n",
    "        data['posting_date'] =[posting_date]\n",
    "        data['due_in_date'] = [due_in_date]\n",
    "        data['baseline_create_date'] = [baseline_create_date]\n",
    "        data['cust_payment_terms'] = [cust_payment_terms]\n",
    "        data['converted_usd'] = [converted_usd]\n",
    "        \n",
    "        \n",
    "        print(request.json)\n",
    "        \n",
    "       \n",
    "        \n",
    "        response = make_response(jsonify(New_Bucket.predict(data)),200)\n",
    "        response.headers[\"Content-Type\"] = \"application/json\"\n",
    "        return response\n",
    "    else:\n",
    "        return render_template(\"index1.html\")\n",
    "        \n",
    "@app.route(\"/get_prediction\", methods=[\"GET\",'POST'])\n",
    "def get_prediction():    \n",
    "    if request.method == \"POST\":\n",
    "        doc_id_list = list(request.json[\"data\"])\n",
    "        print(doc_id_list)\n",
    "        response = make_response(jsonify(New_Bucket.doc_id_bucket(doc_id_list)),200)\n",
    "        response.headers[\"Access-Control-Allow-Origin\"]=\"*\"\n",
    "        response.headers[\"Content-Type\"] = \"application/json\"\n",
    "        return response\n",
    "    else:\n",
    "        return render_template(\"index2.html\")\n",
    "    \n",
    "\n",
    "@app.route(\"/all\", methods=[\"GET\",'POST'])\n",
    "def alll():    \n",
    "    if request.method == \"POST\":        \n",
    "        response = make_response(jsonify(New_Bucket.alll()),200)       \n",
    "        response.headers[\"Content-Type\"] = \"application/json\"\n",
    "        return response\n",
    "    else:\n",
    "        return render_template(\"index3.html\")    \n",
    "    \n",
    "@app.route(\"/login\", methods=[\"POST\", \"GET\"])\n",
    "def login():\n",
    "    if request.method == \"POST\":\n",
    "        user = request.form[\"nm\"]\n",
    "        return redirect(url_for(\"user\", usr=user))\n",
    "    else:\n",
    "        return render_template(\"login.html\")\n",
    "\n",
    "@app.route(\"/<usr>\")\n",
    "def user(usr):\n",
    "    return f\"<h1>{usr}</h1>\"\n",
    "\n",
    "if __name__ == \"__main__\":\n",
    "    app.run()"
   ]
  },
  {
   "cell_type": "code",
   "execution_count": 1,
   "id": "287fe5bc",
   "metadata": {},
   "outputs": [
    {
     "name": "stdout",
     "output_type": "stream",
     "text": [
      "Requirement already satisfied: flask_cors in c:\\users\\bhanu\\anaconda3\\lib\\site-packages (3.0.10)\n",
      "Requirement already satisfied: Six in c:\\users\\bhanu\\anaconda3\\lib\\site-packages (from flask_cors) (1.16.0)\n",
      "Requirement already satisfied: Flask>=0.9 in c:\\users\\bhanu\\anaconda3\\lib\\site-packages (from flask_cors) (1.1.2)\n",
      "Requirement already satisfied: itsdangerous>=0.24 in c:\\users\\bhanu\\anaconda3\\lib\\site-packages (from Flask>=0.9->flask_cors) (2.0.1)\n",
      "Requirement already satisfied: Werkzeug>=0.15 in c:\\users\\bhanu\\anaconda3\\lib\\site-packages (from Flask>=0.9->flask_cors) (2.0.2)\n",
      "Requirement already satisfied: click>=5.1 in c:\\users\\bhanu\\anaconda3\\lib\\site-packages (from Flask>=0.9->flask_cors) (8.0.3)\n",
      "Requirement already satisfied: Jinja2>=2.10.1 in c:\\users\\bhanu\\anaconda3\\lib\\site-packages (from Flask>=0.9->flask_cors) (2.11.3)\n",
      "Requirement already satisfied: colorama in c:\\users\\bhanu\\anaconda3\\lib\\site-packages (from click>=5.1->Flask>=0.9->flask_cors) (0.4.4)\n",
      "Requirement already satisfied: MarkupSafe>=0.23 in c:\\users\\bhanu\\anaconda3\\lib\\site-packages (from Jinja2>=2.10.1->Flask>=0.9->flask_cors) (1.1.1)\n"
     ]
    }
   ],
   "source": [
    "!pip install flask_cors"
   ]
  },
  {
   "cell_type": "code",
   "execution_count": null,
   "id": "00d885e9",
   "metadata": {},
   "outputs": [],
   "source": []
  }
 ],
 "metadata": {
  "kernelspec": {
   "display_name": "Python 3 (ipykernel)",
   "language": "python",
   "name": "python3"
  },
  "language_info": {
   "codemirror_mode": {
    "name": "ipython",
    "version": 3
   },
   "file_extension": ".py",
   "mimetype": "text/x-python",
   "name": "python",
   "nbconvert_exporter": "python",
   "pygments_lexer": "ipython3",
   "version": "3.9.7"
  }
 },
 "nbformat": 4,
 "nbformat_minor": 5
}
